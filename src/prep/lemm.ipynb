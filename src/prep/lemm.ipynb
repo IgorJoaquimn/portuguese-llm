{
 "cells": [
  {
   "cell_type": "code",
   "execution_count": 1,
   "id": "21ef0f3a",
   "metadata": {},
   "outputs": [],
   "source": [
    "import spacy"
   ]
  },
  {
   "cell_type": "code",
   "execution_count": 2,
   "id": "6cb198dd",
   "metadata": {},
   "outputs": [],
   "source": [
    "import pandas as pd\n",
    "df = pd.read_parquet(\"../../data/merged_data.parquet\")"
   ]
  },
  {
   "cell_type": "code",
   "execution_count": 3,
   "id": "1ee4325a",
   "metadata": {},
   "outputs": [
    {
     "name": "stdout",
     "output_type": "stream",
     "text": [
      "Portuguese spaCy model not found. Please install it with:\n",
      "python -m spacy download pt_core_news_sm\n",
      "Falling back to Portuguese stemmer...\n"
     ]
    }
   ],
   "source": [
    "import nltk\n",
    "try:\n",
    "    nltk.data.find('corpora/stopwords.zip')\n",
    "except LookupError:\n",
    "    nltk.download('stopwords')\n",
    "from nltk.corpus import stopwords\n",
    "from nltk.stem import SnowballStemmer\n",
    "# Initialize Portuguese stemmer as fallback\n",
    "portuguese_stemmer = SnowballStemmer('portuguese')\n",
    "\n",
    "# Try to load Portuguese spaCy model\n",
    "nlp = None\n",
    "try:\n",
    "    import spacy\n",
    "    nlp = spacy.load(\"pt_core_news_sm\")\n",
    "except ImportError:\n",
    "    print(\"spaCy not installed. Please install it with: pip install spacy\")\n",
    "    print(\"Then download Portuguese model with: python -m spacy download pt_core_news_sm\")\n",
    "    print(\"Falling back to Portuguese stemmer...\")\n",
    "except OSError:\n",
    "    print(\"Portuguese spaCy model not found. Please install it with:\")\n",
    "    print(\"python -m spacy download pt_core_news_sm\")\n",
    "    print(\"Falling back to Portuguese stemmer...\")\n"
   ]
  },
  {
   "cell_type": "code",
   "execution_count": 4,
   "id": "c89eae78",
   "metadata": {},
   "outputs": [],
   "source": [
    "\n",
    "def lemmatize_text(text):\n",
    "    \"\"\"\n",
    "    Lemmatize text using spaCy for Portuguese, with fallback to Portuguese stemmer\n",
    "    \"\"\"\n",
    "    # Remove non-alphabetic characters and convert to lowercase\n",
    "    text = re.sub(r'[^a-zA-ZÀ-ÿ\\s]', '', text.lower())\n",
    "    \n",
    "    if nlp is not None:\n",
    "        # Use spaCy for proper Portuguese lemmatization\n",
    "        doc = nlp(text)\n",
    "        # Get lemmas for each token, excluding stop words, punctuation, and spaces\n",
    "        lemmatized_tokens = [token.lemma_ for token in doc \n",
    "                           if not token.is_stop and not token.is_punct and not token.is_space \n",
    "                           and len(token.text.strip()) > 2]\n",
    "        return ' '.join(lemmatized_tokens)\n",
    "    else:\n",
    "        # Fallback: use Portuguese stemmer from NLTK\n",
    "        words = text.split()\n",
    "        # Filter out short words and apply stemming\n",
    "        stemmed_words = [portuguese_stemmer.stem(word) for word in words if len(word) > 2]\n",
    "        return ' '.join(stemmed_words)"
   ]
  }
 ],
 "metadata": {
  "kernelspec": {
   "display_name": "poc_3",
   "language": "python",
   "name": "python3"
  },
  "language_info": {
   "codemirror_mode": {
    "name": "ipython",
    "version": 3
   },
   "file_extension": ".py",
   "mimetype": "text/x-python",
   "name": "python",
   "nbconvert_exporter": "python",
   "pygments_lexer": "ipython3",
   "version": "3.12.11"
  }
 },
 "nbformat": 4,
 "nbformat_minor": 5
}
