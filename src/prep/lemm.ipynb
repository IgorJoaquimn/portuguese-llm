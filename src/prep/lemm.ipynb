{
 "cells": [
  {
   "cell_type": "code",
   "execution_count": 4,
   "id": "21ef0f3a",
   "metadata": {},
   "outputs": [],
   "source": [
    "import requests\n",
    "from conllu import parse"
   ]
  },
  {
   "cell_type": "code",
   "execution_count": 26,
   "id": "315ca398",
   "metadata": {},
   "outputs": [
    {
     "name": "stdout",
     "output_type": "stream",
     "text": [
      "INFO: Pandarallel will run on 4 workers.\n",
      "INFO: Pandarallel will use Memory file system to transfer data between the main process and workers.\n"
     ]
    }
   ],
   "source": [
    "from pandarallel import pandarallel\n",
    "\n",
    "pandarallel.initialize(progress_bar=True)"
   ]
  },
  {
   "cell_type": "code",
   "execution_count": 5,
   "id": "6cb198dd",
   "metadata": {},
   "outputs": [],
   "source": [
    "import pandas as pd\n",
    "df = pd.read_parquet(\"../../data/merged_data.parquet\")"
   ]
  },
  {
   "cell_type": "code",
   "execution_count": 9,
   "id": "e3b564a9",
   "metadata": {},
   "outputs": [],
   "source": [
    "def generate_one_response(message):\n",
    "    request_param = data_metadata.copy()\n",
    "    request_param[\"data\"] = message\n",
    "    response = requests.post(URL, data=request_param)\n",
    "    # Check if the response is valid\n",
    "    if response.status_code != 200:\n",
    "        raise Exception(f\"Error: {response.status_code}, {response.text}\")\n",
    "    # Check if the response is valid\n",
    "    if \"result\" not in response.json():\n",
    "        raise Exception(f\"Error: {response.status_code}, {response.text}\")\n",
    "    udpipe_output = parse(response.json()[\"result\"])\n",
    "    return udpipe_output"
   ]
  },
  {
   "cell_type": "code",
   "execution_count": 10,
   "id": "1492bd76",
   "metadata": {},
   "outputs": [],
   "source": [
    "URL = 'http://lindat.mff.cuni.cz/services/udpipe/api/process'\n",
    "data_metadata = {\n",
    "'tokenizer': '',\n",
    "'tagger': '',\n",
    "'parser': '',\n",
    "'model': \"portuguese-bosque-ud-2.12-230717\",\n",
    "}"
   ]
  },
  {
   "cell_type": "code",
   "execution_count": 20,
   "id": "94ae71e2",
   "metadata": {},
   "outputs": [],
   "source": [
    "sentences = generate_one_response(\"oi mulheres 32 anos, tudo bem?\")"
   ]
  },
  {
   "cell_type": "code",
   "execution_count": 23,
   "id": "75f796e8",
   "metadata": {},
   "outputs": [],
   "source": [
    "def extract_lemmas_string(sentences):\n",
    "    \"\"\"\n",
    "    Extract lemmas from a list of sentences and return them as a single string.\n",
    "    Filters out punctuation tokens (deprel == \"punct\").\n",
    "    \n",
    "    Args:\n",
    "        sentences: List of parsed sentences from UDPipe\n",
    "        \n",
    "    Returns:\n",
    "        str: Space-separated string of lemmas (excluding punctuation)\n",
    "    \"\"\"\n",
    "    lemmas = []\n",
    "    for sentence in sentences:\n",
    "        for token in sentence:\n",
    "            if token[\"deprel\"] == \"punct\":\n",
    "                continue\n",
    "            if token[\"deprel\"] == \"nummod\":\n",
    "                continue\n",
    "            lemmas.append(token[\"lemma\"])\n",
    "    return \" \".join(lemmas)"
   ]
  },
  {
   "cell_type": "code",
   "execution_count": 24,
   "id": "0cc7f0e3",
   "metadata": {},
   "outputs": [
    {
     "name": "stdout",
     "output_type": "stream",
     "text": [
      "Lemmas as string: oer mulher ano tudo bem\n"
     ]
    }
   ],
   "source": [
    "# Example usage\n",
    "lemmas_string = extract_lemmas_string(sentences)\n",
    "print(\"Lemmas as string:\", lemmas_string)"
   ]
  },
  {
   "cell_type": "code",
   "execution_count": 27,
   "id": "df71d348",
   "metadata": {},
   "outputs": [
    {
     "ename": "ModuleNotFoundError",
     "evalue": "No module named 'ipywidgets'",
     "output_type": "error",
     "traceback": [
      "\u001b[0;31m---------------------------------------------------------------------------\u001b[0m",
      "\u001b[0;31mModuleNotFoundError\u001b[0m                       Traceback (most recent call last)",
      "Cell \u001b[0;32mIn[27], line 1\u001b[0m\n\u001b[0;32m----> 1\u001b[0m df[\u001b[38;5;124m'\u001b[39m\u001b[38;5;124mresponse_lemm\u001b[39m\u001b[38;5;124m'\u001b[39m] \u001b[38;5;241m=\u001b[39m \u001b[43mdf\u001b[49m\u001b[43m[\u001b[49m\u001b[38;5;124;43m'\u001b[39;49m\u001b[38;5;124;43mresponse\u001b[39;49m\u001b[38;5;124;43m'\u001b[39;49m\u001b[43m]\u001b[49m\u001b[38;5;241;43m.\u001b[39;49m\u001b[43mparallel_apply\u001b[49m\u001b[43m(\u001b[49m\u001b[38;5;28;43;01mlambda\u001b[39;49;00m\u001b[43m \u001b[49m\u001b[43mx\u001b[49m\u001b[43m:\u001b[49m\u001b[43m \u001b[49m\u001b[43mextract_lemmas_string\u001b[49m\u001b[43m(\u001b[49m\u001b[43mgenerate_one_response\u001b[49m\u001b[43m(\u001b[49m\u001b[43mx\u001b[49m\u001b[43m)\u001b[49m\u001b[43m)\u001b[49m\u001b[43m)\u001b[49m\n",
      "File \u001b[0;32m~/miniconda3/envs/poc_2/lib/python3.10/site-packages/pandarallel/core.py:242\u001b[0m, in \u001b[0;36mparallelize_with_memory_file_system.<locals>.closure\u001b[0;34m(data, user_defined_function, *user_defined_function_args, **user_defined_function_kwargs)\u001b[0m\n\u001b[1;32m    238\u001b[0m reduce_extra \u001b[38;5;241m=\u001b[39m data_type\u001b[38;5;241m.\u001b[39mget_reduce_extra(data, user_defined_function_kwargs)\n\u001b[1;32m    240\u001b[0m show_progress_bars \u001b[38;5;241m=\u001b[39m progress_bars_type \u001b[38;5;241m!=\u001b[39m ProgressBarsType\u001b[38;5;241m.\u001b[39mNo\n\u001b[0;32m--> 242\u001b[0m progress_bars \u001b[38;5;241m=\u001b[39m \u001b[43mget_progress_bars\u001b[49m\u001b[43m(\u001b[49m\u001b[43mprogresses_length\u001b[49m\u001b[43m,\u001b[49m\u001b[43m \u001b[49m\u001b[43mshow_progress_bars\u001b[49m\u001b[43m)\u001b[49m\n\u001b[1;32m    243\u001b[0m progresses \u001b[38;5;241m=\u001b[39m [\u001b[38;5;241m0\u001b[39m] \u001b[38;5;241m*\u001b[39m nb_workers\n\u001b[1;32m    244\u001b[0m workers_status \u001b[38;5;241m=\u001b[39m [WorkerStatus\u001b[38;5;241m.\u001b[39mRunning] \u001b[38;5;241m*\u001b[39m nb_workers\n",
      "File \u001b[0;32m~/miniconda3/envs/poc_2/lib/python3.10/site-packages/pandarallel/progress_bars.py:179\u001b[0m, in \u001b[0;36mget_progress_bars\u001b[0;34m(maxs, show)\u001b[0m\n\u001b[1;32m    175\u001b[0m \u001b[38;5;28;01mdef\u001b[39;00m\u001b[38;5;250m \u001b[39m\u001b[38;5;21mget_progress_bars\u001b[39m(\n\u001b[1;32m    176\u001b[0m     maxs: List[\u001b[38;5;28mint\u001b[39m], show\n\u001b[1;32m    177\u001b[0m ) \u001b[38;5;241m-\u001b[39m\u001b[38;5;241m>\u001b[39m Union[ProgressBarsNotebookLab, ProgressBarsConsole]:\n\u001b[1;32m    178\u001b[0m     \u001b[38;5;28;01mreturn\u001b[39;00m (\n\u001b[0;32m--> 179\u001b[0m         \u001b[43mProgressBarsNotebookLab\u001b[49m\u001b[43m(\u001b[49m\u001b[43mmaxs\u001b[49m\u001b[43m,\u001b[49m\u001b[43m \u001b[49m\u001b[43mshow\u001b[49m\u001b[43m)\u001b[49m\n\u001b[1;32m    180\u001b[0m         \u001b[38;5;28;01mif\u001b[39;00m is_notebook_lab()\n\u001b[1;32m    181\u001b[0m         \u001b[38;5;28;01melse\u001b[39;00m ProgressBarsConsole(maxs, show)\n\u001b[1;32m    182\u001b[0m     )\n",
      "File \u001b[0;32m~/miniconda3/envs/poc_2/lib/python3.10/site-packages/pandarallel/progress_bars.py:133\u001b[0m, in \u001b[0;36mProgressBarsNotebookLab.__init__\u001b[0;34m(self, maxs, show)\u001b[0m\n\u001b[1;32m    130\u001b[0m     \u001b[38;5;28;01mreturn\u001b[39;00m\n\u001b[1;32m    132\u001b[0m \u001b[38;5;28;01mfrom\u001b[39;00m\u001b[38;5;250m \u001b[39m\u001b[38;5;21;01mIPython\u001b[39;00m\u001b[38;5;21;01m.\u001b[39;00m\u001b[38;5;21;01mdisplay\u001b[39;00m\u001b[38;5;250m \u001b[39m\u001b[38;5;28;01mimport\u001b[39;00m display\n\u001b[0;32m--> 133\u001b[0m \u001b[38;5;28;01mfrom\u001b[39;00m\u001b[38;5;250m \u001b[39m\u001b[38;5;21;01mipywidgets\u001b[39;00m\u001b[38;5;250m \u001b[39m\u001b[38;5;28;01mimport\u001b[39;00m HBox, IntProgress, Label, VBox\n\u001b[1;32m    135\u001b[0m \u001b[38;5;28mself\u001b[39m\u001b[38;5;241m.\u001b[39m__bars \u001b[38;5;241m=\u001b[39m [\n\u001b[1;32m    136\u001b[0m     HBox(\n\u001b[1;32m    137\u001b[0m         [\n\u001b[0;32m   (...)\u001b[0m\n\u001b[1;32m    142\u001b[0m     \u001b[38;5;28;01mfor\u001b[39;00m \u001b[38;5;28mmax\u001b[39m \u001b[38;5;129;01min\u001b[39;00m maxs\n\u001b[1;32m    143\u001b[0m ]\n\u001b[1;32m    145\u001b[0m display(VBox(\u001b[38;5;28mself\u001b[39m\u001b[38;5;241m.\u001b[39m__bars))\n",
      "\u001b[0;31mModuleNotFoundError\u001b[0m: No module named 'ipywidgets'"
     ]
    }
   ],
   "source": [
    "df['response_lemm'] = df['response'].parallel_apply(lambda x: extract_lemmas_string(generate_one_response(x)))"
   ]
  }
 ],
 "metadata": {
  "kernelspec": {
   "display_name": "poc_2",
   "language": "python",
   "name": "python3"
  },
  "language_info": {
   "codemirror_mode": {
    "name": "ipython",
    "version": 3
   },
   "file_extension": ".py",
   "mimetype": "text/x-python",
   "name": "python",
   "nbconvert_exporter": "python",
   "pygments_lexer": "ipython3",
   "version": "3.10.13"
  }
 },
 "nbformat": 4,
 "nbformat_minor": 5
}
